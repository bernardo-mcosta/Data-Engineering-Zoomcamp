{
  "cells": [
    {
      "cell_type": "markdown",
      "metadata": {
        "id": "mrTFv5nPClXh"
      },
      "source": [
        "# **Homework**: Data talks club data engineering zoomcamp Data loading workshop\n",
        "\n",
        "Hello folks, let's practice what we learned - Loading data with the best practices of data engineering.\n",
        "\n",
        "Here are the exercises we will do\n",
        "\n",
        "\n"
      ]
    },
    {
      "cell_type": "markdown",
      "metadata": {
        "id": "wLF4iXf-NR7t"
      },
      "source": [
        "# 1. Use a generator\n",
        "\n",
        "Remember the concept of generator? Let's practice using them to futher our understanding of how they work.\n",
        "\n",
        "Let's define a generator and then run it as practice.\n",
        "\n",
        "**Answer the following questions:**\n",
        "\n",
        "- **Question 1: What is the sum of the outputs of the generator for limit = 5?**\n",
        "- **Question 2: What is the 13th number yielded**\n",
        "\n",
        "I suggest practicing these questions without GPT as the purpose is to further your learning."
      ]
    },
    {
      "cell_type": "markdown",
      "metadata": {
        "id": "vjWhILzGJMpK"
      },
      "source": [
        "# 2. Append a generator to a table with existing data\n",
        "\n",
        "\n",
        "Below you have 2 generators. You will be tasked to load them to duckdb and answer some questions from the data\n",
        "\n",
        "1. Load the first generator and calculate the sum of ages of all people. Make sure to only load it once.\n",
        "2. Append the second generator to the same table as the first.\n",
        "3. **After correctly appending the data, calculate the sum of all ages of people.**\n",
        "\n",
        "\n"
      ]
    },
    {
      "cell_type": "markdown",
      "metadata": {
        "id": "pY4cFAWOSwN1"
      },
      "source": [
        "# 3. Merge a generator\n",
        "\n",
        "Re-use the generators from Exercise 2.\n",
        "\n",
        "A table's primary key needs to be created from the start, so load your data to a new table with primary key ID.\n",
        "\n",
        "Load your first generator first, and then load the second one with merge. Since they have overlapping IDs, some of the records from the first load should be replaced by the ones from the second load.\n",
        "\n",
        "After loading, you should have a total of 8 records, and ID 3 should have age 33.\n",
        "\n",
        "Question: **Calculate the sum of ages of all the people loaded as described above.**\n"
      ]
    },
    {
      "attachments": {},
      "cell_type": "markdown",
      "metadata": {
        "id": "kKB2GTB9oVjr"
      },
      "source": [
        "# Solution"
      ]
    },
    {
      "cell_type": "code",
      "execution_count": 1,
      "metadata": {},
      "outputs": [
        {
          "name": "stdout",
          "output_type": "stream",
          "text": [
            "1.0\n",
            "2.414213562373095\n",
            "4.146264369941973\n",
            "6.146264369941973\n",
            "8.382332347441762\n"
          ]
        }
      ],
      "source": [
        "def square_root_generator(limit):\n",
        "    n = 1\n",
        "    sum = 0\n",
        "    while n <= limit:\n",
        "        sum += n ** 0.5 \n",
        "        yield sum\n",
        "        n += 1\n",
        "\n",
        "# Example usage:\n",
        "limit = 5\n",
        "generator = square_root_generator(limit)\n",
        "\n",
        "for sqrt_value in generator:\n",
        "    print(sqrt_value)"
      ]
    },
    {
      "cell_type": "code",
      "execution_count": 3,
      "metadata": {
        "colab": {
          "base_uri": "https://localhost:8080/"
        },
        "id": "wLng-bDJN4jf",
        "outputId": "0467f5be-3e3a-4b68-d199-8c48fa998ea4"
      },
      "outputs": [
        {
          "name": "stdout",
          "output_type": "stream",
          "text": [
            "1.0\n",
            "1.4142135623730951\n",
            "1.7320508075688772\n",
            "2.0\n",
            "2.23606797749979\n",
            "2.449489742783178\n",
            "2.6457513110645907\n",
            "2.8284271247461903\n",
            "3.0\n",
            "3.1622776601683795\n",
            "3.3166247903554\n",
            "3.4641016151377544\n",
            "3.605551275463989\n"
          ]
        }
      ],
      "source": [
        "def square_root_generator(limit):\n",
        "    n = 1\n",
        "    sum = 0\n",
        "    while n <= limit:\n",
        "        yield n ** 0.5\n",
        "        n += 1\n",
        "\n",
        "# Example usage:\n",
        "limit = 13\n",
        "generator = square_root_generator(limit)\n",
        "\n",
        "for sqrt_value in generator:\n",
        "    print(sqrt_value)\n"
      ]
    },
    {
      "cell_type": "code",
      "execution_count": 2,
      "metadata": {
        "colab": {
          "base_uri": "https://localhost:8080/",
          "height": 251
        },
        "id": "2MoaQcdLBEk6",
        "outputId": "7129cf24-7b28-48b5-d729-de4a0410203f"
      },
      "outputs": [
        {
          "name": "stdout",
          "output_type": "stream",
          "text": [
            "353\n"
          ]
        }
      ],
      "source": [
        "import pandas as pd\n",
        "import duckdb\n",
        "\n",
        "def people_1():\n",
        "    for i in range(1, 6):\n",
        "        yield {\"ID\": i, \"Name\": f\"Person_{i}\", \"Age\": 25 + i, \"City\": \"City_A\"}\n",
        "\n",
        "def people_2():\n",
        "    for i in range(3, 9):\n",
        "        yield {\"ID\": i, \"Name\": f\"Person_{i}\", \"Age\": 30 + i, \"City\": \"City_B\", \"Occupation\": f\"Job_{i}\"}\n",
        "\n",
        "data_1 = pd.DataFrame(people_1())\n",
        "data_2 = pd.DataFrame(people_2())\n",
        "\n",
        "data = pd.concat([data_1,data_2])\n",
        "\n",
        "con = duckdb.connect(database=':memory:', read_only=False)\n",
        "\n",
        "con.register('people', data)\n",
        "\n",
        "query = \"SELECT SUM(Age) FROM people\"\n",
        "result = con.execute(query).fetchall()\n",
        "\n",
        "sum_of_ages = result[0][0]\n",
        "\n",
        "print(sum_of_ages)"
      ]
    },
    {
      "cell_type": "code",
      "execution_count": 4,
      "metadata": {},
      "outputs": [
        {
          "ename": "TypeError",
          "evalue": "register(): incompatible function arguments. The following argument types are supported:\n    1. (self: duckdb.duckdb.DuckDBPyConnection, view_name: str, python_object: object) -> duckdb.duckdb.DuckDBPyConnection\n\nInvoked with: <duckdb.duckdb.DuckDBPyConnection object at 0x0000022F5E01A170>, 'people',    ID      Name  Age    City Occupation\n0   3  Person_3   33  City_B      Job_3\n1   4  Person_4   34  City_B      Job_4\n2   5  Person_5   35  City_B      Job_5\n3   6  Person_6   36  City_B      Job_6\n4   7  Person_7   37  City_B      Job_7\n5   8  Person_8   38  City_B      Job_8; kwargs: overwrite=True",
          "output_type": "error",
          "traceback": [
            "\u001b[1;31m---------------------------------------------------------------------------\u001b[0m",
            "\u001b[1;31mTypeError\u001b[0m                                 Traceback (most recent call last)",
            "Cell \u001b[1;32mIn[4], line 16\u001b[0m\n\u001b[0;32m     13\u001b[0m data_2 \u001b[39m=\u001b[39m pd\u001b[39m.\u001b[39mDataFrame(people_2())\n\u001b[0;32m     15\u001b[0m con\u001b[39m.\u001b[39mregister(\u001b[39m'\u001b[39m\u001b[39mpeople\u001b[39m\u001b[39m'\u001b[39m, data_1)\n\u001b[1;32m---> 16\u001b[0m con\u001b[39m.\u001b[39;49mregister(\u001b[39m'\u001b[39;49m\u001b[39mpeople\u001b[39;49m\u001b[39m'\u001b[39;49m, data_2, overwrite\u001b[39m=\u001b[39;49m\u001b[39mTrue\u001b[39;49;00m)\n\u001b[0;32m     19\u001b[0m query \u001b[39m=\u001b[39m \u001b[39m\"\u001b[39m\u001b[39mSELECT SUM(Age) FROM people\u001b[39m\u001b[39m\"\u001b[39m\n\u001b[0;32m     20\u001b[0m result \u001b[39m=\u001b[39m con\u001b[39m.\u001b[39mexecute(query)\u001b[39m.\u001b[39mfetchall()\n",
            "\u001b[1;31mTypeError\u001b[0m: register(): incompatible function arguments. The following argument types are supported:\n    1. (self: duckdb.duckdb.DuckDBPyConnection, view_name: str, python_object: object) -> duckdb.duckdb.DuckDBPyConnection\n\nInvoked with: <duckdb.duckdb.DuckDBPyConnection object at 0x0000022F5E01A170>, 'people',    ID      Name  Age    City Occupation\n0   3  Person_3   33  City_B      Job_3\n1   4  Person_4   34  City_B      Job_4\n2   5  Person_5   35  City_B      Job_5\n3   6  Person_6   36  City_B      Job_6\n4   7  Person_7   37  City_B      Job_7\n5   8  Person_8   38  City_B      Job_8; kwargs: overwrite=True"
          ]
        }
      ],
      "source": [
        "con = duckdb.connect(database=':memory:', read_only=False)\n",
        "\n",
        "def people_1():\n",
        "    for i in range(1, 6):\n",
        "        yield {\"ID\": i, \"Name\": f\"Person_{i}\", \"Age\": 25 + i, \"City\": \"City_A\"}\n",
        "\n",
        "data_1 = pd.DataFrame(people_1())\n",
        "\n",
        "def people_2():\n",
        "    for i in range(3, 9):\n",
        "        yield {\"ID\": i, \"Name\": f\"Person_{i}\", \"Age\": 30 + i, \"City\": \"City_B\", \"Occupation\": f\"Job_{i}\"}\n",
        "\n",
        "data_2 = pd.DataFrame(people_2())\n",
        "\n",
        "con.register('people', data_1)\n",
        "con.register('people', data_2, overwrite=True)\n",
        "\n",
        "\n",
        "query = \"SELECT SUM(Age) FROM people\"\n",
        "result = con.execute(query).fetchall()\n",
        "\n",
        "sum_of_ages = result[0][0]\n",
        "\n",
        "print(sum_of_ages) "
      ]
    },
    {
      "cell_type": "code",
      "execution_count": 8,
      "metadata": {},
      "outputs": [
        {
          "name": "stdout",
          "output_type": "stream",
          "text": [
            "266\n"
          ]
        }
      ],
      "source": [
        "con = duckdb.connect(database=':memory:', read_only=False)\n",
        "\n",
        "def people_1():\n",
        "    for i in range(1, 6):\n",
        "        yield {\"ID\": i, \"Name\": f\"Person_{i}\", \"Age\": 25 + i, \"City\": \"City_A\"}\n",
        "\n",
        "data_1 = pd.DataFrame(people_1())\n",
        "\n",
        "def people_2():\n",
        "    for i in range(3, 9):\n",
        "        yield {\"ID\": i, \"Name\": f\"Person_{i}\", \"Age\": 30 + i, \"City\": \"City_B\", \"Occupation\": f\"Job_{i}\"}\n",
        "\n",
        "data_2 = pd.DataFrame(people_2())\n",
        "\n",
        "merged_data = pd.concat([data_1, data_2]).drop_duplicates(subset='ID', keep='last')\n",
        "\n",
        "con.register('people', merged_data)\n",
        "\n",
        "query = \"SELECT SUM(Age) FROM people\"\n",
        "result = con.execute(query).fetchall()\n",
        "\n",
        "sum_of_ages = result[0][0]\n",
        "\n",
        "print(sum_of_ages)"
      ]
    },
    {
      "cell_type": "markdown",
      "metadata": {
        "id": "PoTJu4kbGG0z"
      },
      "source": [
        "Questions? difficulties? We are here to help.\n",
        "- DTC data engineering course channel: https://datatalks-club.slack.com/archives/C01FABYF2RG\n",
        "- dlt's DTC cohort channel: https://dlthub-community.slack.com/archives/C06GAEX2VNX"
      ]
    }
  ],
  "metadata": {
    "colab": {
      "provenance": []
    },
    "kernelspec": {
      "display_name": "Python 3",
      "name": "python3"
    },
    "language_info": {
      "codemirror_mode": {
        "name": "ipython",
        "version": 3
      },
      "file_extension": ".py",
      "mimetype": "text/x-python",
      "name": "python",
      "nbconvert_exporter": "python",
      "pygments_lexer": "ipython3",
      "version": "3.8.5"
    }
  },
  "nbformat": 4,
  "nbformat_minor": 0
}
